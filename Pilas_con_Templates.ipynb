{
  "nbformat": 4,
  "nbformat_minor": 0,
  "metadata": {
    "colab": {
      "name": "Pilas con Templates.ipynb",
      "provenance": []
    },
    "kernelspec": {
      "name": "python3",
      "display_name": "Python 3"
    },
    "language_info": {
      "name": "python"
    }
  },
  "cells": [
    {
      "cell_type": "code",
      "metadata": {
        "colab": {
          "base_uri": "https://localhost:8080/"
        },
        "id": "LJgJy8pqSYy2",
        "outputId": "0d430042-e8ff-4dac-c3ef-157fc0487e56"
      },
      "source": [
        "%%writefile pilasTemplates.hpp\n",
        "#include <iostream>\n",
        "#include <cstdlib>\n",
        "#include <functional>\n",
        "#define NULO 0\n",
        "using namespace std;\n",
        "template <typename Tipo>\n",
        "struct Nodo {\n",
        "    Tipo elemento;\n",
        "    Nodo<Tipo>* siguiente;\n",
        "    Nodo<Tipo>* anterior;\n",
        "    Nodo(Tipo e) {\n",
        "        elemento = e;\n",
        "        siguiente = anterior = nullptr;\n",
        "    }\n",
        "};\n",
        "template <typename Tipo>\n",
        "class Pila {\n",
        "    Nodo<Tipo>* inicio;\n",
        "    Nodo<Tipo>* fin;\n",
        "    long cantidad;\n",
        "public:\n",
        "    Pila() {\n",
        "        fin = inicio = nullptr;\n",
        "        cantidad = 0;\n",
        "    }\n",
        "    void push(Tipo e) {    //O(1)    \n",
        "        Nodo<Tipo>* n = new Nodo<Tipo>(e);\n",
        "        if (inicio == nullptr)\n",
        "            inicio = fin = n;\n",
        "        else {\n",
        "            n->siguiente = inicio;\n",
        "            n->anterior = fin;\n",
        "            inicio = n;\n",
        "        }\n",
        "        ++cantidad;\n",
        "    }\n",
        "    void pop() {\n",
        "        if (inicio == nullptr) return;\n",
        "        Nodo<Tipo>* aux = inicio;\n",
        "        if (cantidad == 1)\n",
        "            inicio = fin = nullptr;\n",
        "        else {\n",
        "            inicio = inicio->siguiente;\n",
        "            inicio->anterior = nullptr;\n",
        "        }\n",
        "        delete aux;\n",
        "        --cantidad;\n",
        "    }\n",
        "    Tipo front() {\n",
        "        if (cantidad > 0) return inicio->elemento;\n",
        "        else return NULO;\n",
        "    }\n",
        "    bool empty() {\n",
        "        return cantidad == 0;\n",
        "    }\n",
        "    int size() { return cantidad; }\n",
        "};\n",
        "\n",
        "void ejemplo1() {\n",
        "    Pila<int> pila;\n",
        "    pila.push(15);\n",
        "    pila.push(25);\n",
        "    pila.push(35);\n",
        "    pila.push(45);\n",
        "    pila.push(55);\n",
        "    while (pila.size()>0)\n",
        "    {\n",
        "        cout << pila.front()<<\"\\n\";\n",
        "        pila.pop();\n",
        "    }\n",
        "}\n",
        "int main() {\n",
        "    ejemplo1();\n",
        "}"
      ],
      "execution_count": 3,
      "outputs": [
        {
          "output_type": "stream",
          "name": "stdout",
          "text": [
            "Overwriting pilasTemplates.hpp\n"
          ]
        }
      ]
    }
  ]
}