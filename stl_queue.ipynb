{
  "nbformat": 4,
  "nbformat_minor": 0,
  "metadata": {
    "colab": {
      "name": "stl::queue",
      "provenance": []
    },
    "kernelspec": {
      "name": "python3",
      "display_name": "Python 3"
    },
    "language_info": {
      "name": "python"
    }
  },
  "cells": [
    {
      "cell_type": "code",
      "metadata": {
        "colab": {
          "base_uri": "https://localhost:8080/"
        },
        "id": "LJgJy8pqSYy2",
        "outputId": "031af7b9-c71b-43a4-f39b-a3fec882b313"
      },
      "source": [
        "%%writefile colasQUEUE.hpp\n",
        "#include <iostream>\n",
        "#include <queue>\n",
        "using namespace std;\n",
        "class Persona {\n",
        "    string nombre;\n",
        "    short edad;\n",
        "public:\n",
        "    Persona(string nombre, short edad) :nombre(nombre), edad(edad) {}\n",
        "    string getNombre() { return nombre; }\n",
        "    short getedad() { return edad; }\n",
        "};\n",
        "\n",
        "void ejemplo1() {\n",
        "    queue<int> ls;\n",
        "    ls.push(15);\n",
        "    ls.push(25);\n",
        "    ls.push(35);\n",
        "    ls.push(45);\n",
        "    ls.push(55);\n",
        "    while (!ls.empty()) {\n",
        "        cout << ls.front() << endl;\n",
        "        ls.pop();\n",
        "    }\n",
        "}\n",
        "void ejemplo2() {\n",
        "    queue<Persona*> ls;\n",
        "    ls.push(new Persona(\"Ryan\", 65));\n",
        "    ls.push(new Persona(\"Gaby\", 55));\n",
        "    ls.push(new Persona(\"Juan\", 20));\n",
        "    ls.push(new Persona(\"Eduardo\", 30));\n",
        "    ls.push(new Persona(\"Yamile\", 75));\n",
        "    ls.push(new Persona(\"Alex\", 45));\n",
        "    while (!ls.empty()) {\n",
        "        cout << ls.front()->getNombre()<<\"\\t\" << ls.front()->getedad() << endl;\n",
        "        ls.pop();\n",
        "    }\n",
        "}\n",
        "\n",
        "int main() {\n",
        "    short op;\n",
        "    while (true)\n",
        "    {\n",
        "        cout << \"==============================\\n\";\n",
        "        cout << \"     Ingrese opcion. \" << endl;\n",
        "        cout << \"1. Ejemplo 1 con enteros.\" << endl;\n",
        "        cout << \"2. Ejemplo 2 con personas.\" << endl;\n",
        "        cout << \"3. Salir.\" << endl;\n",
        "        cin >> op;\n",
        "        switch (op)\n",
        "        {\n",
        "        case 1:\n",
        "            ejemplo1();\n",
        "            break;\n",
        "        case 2:\n",
        "            ejemplo2();\n",
        "            break;\n",
        "        case 3:\n",
        "            exit(0);\n",
        "        default:\n",
        "            break;\n",
        "        }\n",
        "    }\n",
        "    return 0;\n",
        "}"
      ],
      "execution_count": 5,
      "outputs": [
        {
          "output_type": "stream",
          "name": "stdout",
          "text": [
            "Writing colasQUEUE.hpp\n"
          ]
        }
      ]
    }
  ]
}